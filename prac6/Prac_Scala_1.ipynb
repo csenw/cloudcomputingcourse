{
 "cells": [
  {
   "cell_type": "markdown",
   "metadata": {},
   "source": [
    "### 1. Output a message: \"Hello, Scala!\" with println()"
   ]
  },
  {
   "cell_type": "code",
   "execution_count": null,
   "metadata": {},
   "outputs": [],
   "source": [
    "// Input your code here:"
   ]
  },
  {
   "cell_type": "markdown",
   "metadata": {},
   "source": [
    "### 2. Define five string immutable variables to store \"Welcome\", \"to\", \"cloud\", \"computing\", and \"course\" and output a message with these five variables in the following format: Welcome to cloud computing course!"
   ]
  },
  {
   "cell_type": "code",
   "execution_count": null,
   "metadata": {},
   "outputs": [],
   "source": [
    "// Input your code here:"
   ]
  },
  {
   "cell_type": "markdown",
   "metadata": {},
   "source": [
    "### 3. Perform a multiple assignment to two immutable variables using Pair: \n",
    "2019 -> var1 and \"The University of Queensland\" -> var2"
   ]
  },
  {
   "cell_type": "code",
   "execution_count": null,
   "metadata": {},
   "outputs": [],
   "source": [
    "// Input your code here:"
   ]
  },
  {
   "cell_type": "markdown",
   "metadata": {},
   "source": [
    "### 4. Define a 3D point class with public member variables: x, y, and z. This class should have a public method to move the point to the new location. The following test code should work properly:\n",
    "val pt:Point = new Point(10,20,30) <br>\n",
    "pt.move(5,5,5)"
   ]
  },
  {
   "cell_type": "code",
   "execution_count": null,
   "metadata": {},
   "outputs": [],
   "source": [
    "// Input your code here:"
   ]
  },
  {
   "cell_type": "markdown",
   "metadata": {},
   "source": [
    "### 5. Write a function to calculate the factorial value of 10"
   ]
  },
  {
   "cell_type": "code",
   "execution_count": null,
   "metadata": {},
   "outputs": [],
   "source": [
    "// Input your code here:"
   ]
  },
  {
   "cell_type": "markdown",
   "metadata": {},
   "source": [
    "### 6. Write a function to identify if a given year is a leap year\n",
    "The algorithm to recognise the year is: <br>\n",
    "if (year is not divisible by 4) then (it is a common year) <br>\n",
    "else if (year is not divisible by 100) then (it is a leap year) <br>\n",
    "else if (year is not divisible by 400) then (it is a common year) <br>\n",
    "else (it is a leap year) <br>\n",
    "<br>\n",
    "Test the results of the follow code:<br>\n",
    "println(isLeapYear(1600))<br>\n",
    "println(isLeapYear(1900))<br>\n",
    "println(isLeapYear(2000))<br>\n",
    "println(isLeapYear(2019))"
   ]
  },
  {
   "cell_type": "code",
   "execution_count": null,
   "metadata": {},
   "outputs": [],
   "source": [
    "// Input your code here:"
   ]
  },
  {
   "cell_type": "markdown",
   "metadata": {},
   "source": [
    "### 7. Write a function to identify if a given number is a prime number.\n",
    "Test code: <br>\n",
    "isPrime(100) <br>\n",
    "isPrime(97) <br>"
   ]
  },
  {
   "cell_type": "code",
   "execution_count": null,
   "metadata": {},
   "outputs": [],
   "source": [
    "// Input your code here:"
   ]
  },
  {
   "cell_type": "markdown",
   "metadata": {},
   "source": [
    "### 8. Declare two immutable String variables and concatenate them into a new immutable variable. All the letters of the new String variable should be in lower case.\n",
    "str1: \"Cloud\" <br>\n",
    "str2: \"Computing\" <br>\n",
    "str3: \"cloudcomputing\" <br>"
   ]
  },
  {
   "cell_type": "code",
   "execution_count": null,
   "metadata": {},
   "outputs": [],
   "source": [
    "// Input your code here:"
   ]
  },
  {
   "cell_type": "markdown",
   "metadata": {},
   "source": [
    "### 9. Iterate a given list: (6, 8, 10, 12, 14, 16, 19, 20, 21, 25) and break the iteration when encounter a prime number."
   ]
  },
  {
   "cell_type": "code",
   "execution_count": null,
   "metadata": {},
   "outputs": [],
   "source": [
    "// Input your code here:"
   ]
  }
 ],
 "metadata": {
  "kernelspec": {
   "display_name": "Spark2.4.3 - Scala",
   "language": "scala",
   "name": "spark2.4.3_scala"
  },
  "language_info": {
   "codemirror_mode": "text/x-scala",
   "file_extension": ".scala",
   "mimetype": "text/x-scala",
   "name": "scala",
   "pygments_lexer": "scala",
   "version": "2.11.12"
  }
 },
 "nbformat": 4,
 "nbformat_minor": 2
}
