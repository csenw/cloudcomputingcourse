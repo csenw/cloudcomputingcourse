{
 "cells": [
  {
   "cell_type": "markdown",
   "metadata": {},
   "source": [
    "### 1. Given an array of 10 double numbers, calculate and display the max/min/average/sum values of the array."
   ]
  },
  {
   "cell_type": "code",
   "execution_count": 49,
   "metadata": {},
   "outputs": [
    {
     "name": "stdout",
     "output_type": "stream",
     "text": [
      "66.11, 22.94, 8.61, 25.77, 77.47, 64.90, 97.14, 82.90, 20.91, 65.87, \n",
      "Max is 97.14\n",
      "Min is 8.61\n",
      "Total is 532.61\n",
      "Average is 53.26\n"
     ]
    },
    {
     "data": {
      "text/plain": [
       "r = scala.util.Random$@1fcdbbb\n",
       "myArrayDouble = Array(66.10800862557579, 22.939442559955925, 8.60507763728191, 25.768189380506524, 77.47163217404356, 64.89936208554526, 97.13902604877752, 82.89983247893126, 20.908537242485746, 65.87189762787702)\n",
       "max = 97.13902604877752\n",
       "min = 8.60507763728191\n",
       "total = 532.6110058609805\n"
      ]
     },
     "metadata": {},
     "output_type": "display_data"
    },
    {
     "data": {
      "text/plain": [
       "532.6110058609805"
      ]
     },
     "execution_count": 49,
     "metadata": {},
     "output_type": "execute_result"
    }
   ],
   "source": [
    "// Given 10 random Double numbers stored in myArrayDouble\n",
    "val r = scala.util.Random\n",
    "var myArrayDouble:Array[Double] = new Array(10)\n",
    "for (i <- 0 to myArrayDouble.size-1) {\n",
    "    myArrayDouble(i) = (100 * r.nextDouble)\n",
    "    printf(\"%.2f, \",myArrayDouble(i))\n",
    "}\n",
    "println()\n",
    "\n",
    "// Input your code here:\n",
    "\n",
    "// Finding the largest element\n",
    "var max = myArrayDouble(0);\n",
    "for ( i <- 1 to (myArrayDouble.length - 1) ) {\n",
    "   if (myArrayDouble(i) > max) max = myArrayDouble(i);\n",
    "}\n",
    "printf(\"Max is %.2f\\n\",max);\n",
    "\n",
    "// Finding the smallest element\n",
    "var min = myArrayDouble(0);\n",
    "for ( i <- 1 to (myArrayDouble.length - 1) ) {\n",
    "   if (myArrayDouble(i) < min) min = myArrayDouble(i);\n",
    "}\n",
    "printf(\"Min is %.2f\\n\",min);    \n",
    "\n",
    "// Summing all elements\n",
    "var total = 0.0;\n",
    "for ( i <- 0 to (myArrayDouble.length - 1)) {\n",
    "   total += myArrayDouble(i);\n",
    "}\n",
    "printf(\"Total is %.2f\\n\",total);\n",
    "printf(\"Average is %.2f\\n\",total/myArrayDouble.length);"
   ]
  },
  {
   "cell_type": "markdown",
   "metadata": {},
   "source": [
    "### 2. Write a function that can calculate the multiplication of the two matrices in the format of Scala's Array."
   ]
  },
  {
   "cell_type": "code",
   "execution_count": 52,
   "metadata": {},
   "outputs": [
    {
     "data": {
      "text/plain": [
       "mat1 = Array(Array(1, 2), Array(3, 4))\n",
       "mat2 = Array(Array(-3, -8, 3), Array(-2, 1, 4))\n",
       "mat3 = Array(ArraySeq(-7, -6, 11), ArraySeq(-17, -20, 25))\n"
      ]
     },
     "metadata": {},
     "output_type": "display_data"
    },
    {
     "data": {
      "text/plain": [
       "mult: [A](a: Array[Array[A]], b: Array[Array[A]])(implicit n: Numeric[A])Array[scala.collection.mutable.ArraySeq[A]]\n"
      ]
     },
     "metadata": {},
     "output_type": "display_data"
    },
    {
     "data": {
      "text/plain": [
       "Array(ArraySeq(-7, -6, 11), ArraySeq(-17, -20, 25))"
      ]
     },
     "execution_count": 52,
     "metadata": {},
     "output_type": "execute_result"
    }
   ],
   "source": [
    "/* \n",
    "Given matrix 1 is ((1,2),(3,4)) and matrix 2 is ((-3, -8, 3), (-2, 1, 4)), the mult(mat1, mat2) \n",
    "should return the correct result: ((-7, -6, 11), (-17, -20, 25))\n",
    "*/\n",
    "val mat1 = Array(Array(1, 2), Array(3, 4))\n",
    "val mat2 = Array(Array(-3, -8, 3), Array(-2, 1, 4))\n",
    "\n",
    "// Input your code here:\n",
    "def mult[A](a: Array[Array[A]], b: Array[Array[A]])(implicit n: Numeric[A]) = {\n",
    "  import n._\n",
    "  for (row <- a)\n",
    "  yield for(col <- b.transpose)\n",
    "        yield row zip col map Function.tupled(_*_) reduceLeft (_+_)\n",
    "}\n",
    "val mat3 = mult(mat1, mat2)"
   ]
  },
  {
   "cell_type": "markdown",
   "metadata": {},
   "source": [
    "### 3. Generate two arrays containing a sequence in a range of [1,15] and [2000, 2019] with step of 2 and step of 3, respectively, then concatenate them toghter before displaying the concatenated list."
   ]
  },
  {
   "cell_type": "code",
   "execution_count": 62,
   "metadata": {},
   "outputs": [
    {
     "name": "stdout",
     "output_type": "stream",
     "text": [
      "1\n",
      "3\n",
      "5\n",
      "7\n",
      "9\n",
      "11\n",
      "13\n",
      "2000\n",
      "2003\n",
      "2006\n",
      "2009\n",
      "2012\n",
      "2015\n",
      "2018\n"
     ]
    },
    {
     "data": {
      "text/plain": [
       "list1 = List(1, 3, 5, 7, 9, 11, 13)\n",
       "list2 = List(2000, 2003, 2006, 2009, 2012, 2015, 2018)\n",
       "list3 = List(1, 3, 5, 7, 9, 11, 13, 2000, 2003, 2006, 2009, 2012, 2015, 2018)\n"
      ]
     },
     "metadata": {},
     "output_type": "display_data"
    },
    {
     "data": {
      "text/plain": [
       "List(1, 3, 5, 7, 9, 11, 13, 2000, 2003, 2006, 2009, 2012, 2015, 2018)"
      ]
     },
     "execution_count": 62,
     "metadata": {},
     "output_type": "execute_result"
    }
   ],
   "source": [
    "// Input your code here:\n",
    "val list1 = List.range(1, 15, 2);\n",
    "val list2 = List.range(2000, 2019, 3);\n",
    "\n",
    "val list3 = List.concat(list1, list2);\n",
    "\n",
    "for (x <- list3){\n",
    "    println(x);\n",
    "}\n"
   ]
  },
  {
   "cell_type": "markdown",
   "metadata": {},
   "source": [
    "### 4. Given an array of integers (1,7,12,87,3,78,12,0,3,101), sort the array and display the result in both ascending and desceding orders."
   ]
  },
  {
   "cell_type": "code",
   "execution_count": 65,
   "metadata": {},
   "outputs": [
    {
     "name": "stdout",
     "output_type": "stream",
     "text": [
      "Ascending order: 0, 1, 3, 3, 7, 12, 12, 78, 87, 101, \n",
      "Descending order: 101, 87, 78, 12, 12, 7, 3, 3, 1, 0, "
     ]
    },
    {
     "data": {
      "text/plain": [
       "myArray1 = Array(1, 7, 12, 87, 3, 78, 12, 0, 3, 101)\n",
       "myArray2 = Array(0, 1, 3, 3, 7, 12, 12, 78, 87, 101)\n",
       "myArray3 = Array(101, 87, 78, 12, 12, 7, 3, 3, 1, 0)\n"
      ]
     },
     "metadata": {},
     "output_type": "display_data"
    },
    {
     "data": {
      "text/plain": [
       "Array(101, 87, 78, 12, 12, 7, 3, 3, 1, 0)"
      ]
     },
     "execution_count": 65,
     "metadata": {},
     "output_type": "execute_result"
    }
   ],
   "source": [
    "// Input your code here:\n",
    "\n",
    "var myArray1 = Array(1, 7, 12, 87, 3, 78, 12, 0, 3, 101);\n",
    "\n",
    "var myArray2 = myArray1.sortWith(_<_);\n",
    "var myArray3 = myArray1.sortWith(_>_);\n",
    "\n",
    "\n",
    "print(\"Ascending order: \" );\n",
    "for(x <- myArray2){\n",
    "    print(x + \", \" );\n",
    "}\n",
    "println();\n",
    "print(\"Descending order: \");\n",
    "for(x <- myArray3){\n",
    "    print(x + \", \")\n",
    "}"
   ]
  },
  {
   "cell_type": "code",
   "execution_count": 7,
   "metadata": {},
   "outputs": [
    {
     "name": "stdout",
     "output_type": "stream",
     "text": [
      "The holder number of Volvo is: 81354\n",
      "Car brands are: Set(Audi, Kia, Chrysler, Lexus, Land Rover, Porsche, Peugeot, Daihatsu, Suzuki, Renault, BMW, Volvo, Mercedez, Range Rover, Jeep)\n",
      "The results of find Skoda is: false\n",
      "The results of find Kia is: true\n"
     ]
    },
    {
     "data": {
      "text/plain": [
       "cars = Map(Audi -> 176838, Kia -> 331135, Chrysler -> 38338, Lexus -> 102093, Land Rover -> 77345, Porsche -> 36434, Peugeot -> 86586, Daihatsu -> 36586, Suzuki -> 277177, Renault -> 48999, BMW -> 348414, Volvo -> 81354, Mercedez -> 336457, Range Rover -> 36233, Jeep -> 167395)\n"
      ]
     },
     "metadata": {},
     "output_type": "display_data"
    },
    {
     "data": {
      "text/plain": [
       "Map(Audi -> 176838, Kia -> 331135, Chrysler -> 38338, Lexus -> 102093, Land Rover -> 77345, Porsche -> 36434, Peugeot -> 86586, Daihatsu -> 36586, Suzuki -> 277177, Renault -> 48999, BMW -> 348414, Volvo -> 81354, Mercedez -> 336457, Range Rover -> 36233, Jeep -> 167395)"
      ]
     },
     "execution_count": 7,
     "metadata": {},
     "output_type": "execute_result"
    }
   ],
   "source": [
    "/*\n",
    "Below information is about car brands and their holder numbers in Australia until February 2018. \n",
    "Brand(holders)\n",
    "BMW (348,414)\n",
    "Mercedez (336,457)\n",
    "Kia (331,135)\n",
    "Suzuki (277,177)\n",
    "Audi (176,838)\n",
    "Jeep (167,395)\n",
    "Lexus (102,093)\n",
    "Peugeot (86,586)\n",
    "Volvo (81,354)\n",
    "Land Rover (77,345)\n",
    "Renault (48,999)\n",
    "Chrysler (38,338)\n",
    "Daihatsu (36,586)\n",
    "Porsche (36,434)\n",
    "Range Rover (36,233)\n",
    "\n",
    "1. Create a map by using the above information.\n",
    "2. Output the holder number of Volvo\n",
    "3. Output all the car brands.\n",
    "4. Find if exists a car brand named Skoda and Kia \n",
    "*/\n",
    "\n",
    "var cars = Map(\"BMW\" -> 348414,\n",
    "               \"Mercedez\" -> 336457,\n",
    "               \"Kia\" -> 331135,\n",
    "               \"Suzuki\" -> 277177,\n",
    "               \"Audi\" -> 176838,\n",
    "               \"Jeep\" -> 167395,\n",
    "               \"Lexus\" -> 102093,\n",
    "               \"Peugeot\" -> 86586,\n",
    "               \"Volvo\" -> 81354,\n",
    "               \"Land Rover\" -> 77345,\n",
    "               \"Renault\" -> 48999,\n",
    "               \"Chrysler\" -> 38338,\n",
    "               \"Daihatsu\" -> 36586,\n",
    "               \"Porsche\" -> 36434,\n",
    "               \"Range Rover\" -> 36233\n",
    "    \n",
    ");\n",
    "\n",
    "println(\"The holder number of Volvo is: \" + cars(\"Volvo\") );\n",
    "println(\"Car brands are: \" + cars.keys);\n",
    "println(\"The results of find Skoda is: \" + cars.contains(\"Skoda\"));\n",
    "println(\"The results of find Kia is: \" + cars.contains(\"Kia\"));"
   ]
  },
  {
   "cell_type": "markdown",
   "metadata": {},
   "source": [
    "### 5. Create a base class Vehicle with one member variable (speed) and one member function (race). Create a class Convertible by inheriting this base case. "
   ]
  },
  {
   "cell_type": "code",
   "execution_count": 74,
   "metadata": {},
   "outputs": [
    {
     "name": "stdout",
     "output_type": "stream",
     "text": [
      "Racing as a prototype Vehicle at 100 km/h.\n",
      "Convertible engine started!\n",
      "Turn on the headlights!\n",
      "Door number of Sedan is 5\n",
      "SunRoof has been opened!\n",
      "SunRoof has been closed!\n",
      "Racing as a prototype Vehicle at 250 km/h.\n",
      "Convertible engine stoped!\n",
      "Turn off the headlights!\n"
     ]
    },
    {
     "data": {
      "text/plain": [
       "defined class Vehicle\n",
       "defined object Car\n",
       "prototype = Vehicle@235c4c35\n",
       "defined class Convertible\n",
       "merc = Convertible@2d10b409\n"
      ]
     },
     "metadata": {},
     "output_type": "display_data"
    },
    {
     "data": {
      "text/plain": [
       "Convertible@2d10b409"
      ]
     },
     "execution_count": 74,
     "metadata": {},
     "output_type": "execute_result"
    }
   ],
   "source": [
    "/*\n",
    "Requirements:\n",
    "1. The member function of the base class Vehicle can display \"Racing as a prototype Vehicle at N km/h.\" ;\n",
    "2. Some common functions, like lightOn and lightOff, should be treated as functions in a singleton object Car;\n",
    "3. Inherited class Convertible should have more specific member variables, such as door/seat number.\n",
    "4. Inherited class Convertible should have an exclusive function: sunRoof()\n",
    "5. The sunRoof() should be able to open/close the sunroof according to the situation.\n",
    "6. The member function of class Convertible (race()) should behave differently\n",
    "7. The methods in the singleton object should be called when the engine is started or stopped.\n",
    "*/\n",
    "// Input your code here:\n",
    "\n",
    "class Vehicle(speed: Int){\n",
    "    val kmph: Int = speed\n",
    "    def race() = printf(\"Racing as a prototype Vehicle at %d km/h.\\n\",speed)\n",
    "}\n",
    "\n",
    "\n",
    "\n",
    "object Car{\n",
    "    def lightOn {\n",
    "        println(\"Turn on the headlights!\")\n",
    "    }\n",
    "    def lightOff {\n",
    "        println(\"Turn off the headlights!\")\n",
    "    }\n",
    "    def sunRoof {}\n",
    "}\n",
    "\n",
    "\n",
    "val prototype: Vehicle = new Vehicle(100)\n",
    "prototype.race\n",
    "\n",
    "class Convertible(speed:Int, door:Int) extends Vehicle (speed) {\n",
    "    var roof:Boolean = false\n",
    "    override val kmph: Int = speed    \n",
    "    override def race() = printf(\"Racing as a prototype Vehicle at %d km/h.\\n\",speed)\n",
    "    def getDoorNumber() = println(\"Door number of Sedan is \" + door)\n",
    "    def startEngine() = {\n",
    "        println(\"Convertible engine started!\")\n",
    "        Car.lightOn\n",
    "    }\n",
    "    def stopEngine() = {\n",
    "        println(\"Convertible engine stoped!\")\n",
    "        Car.lightOff\n",
    "    }\n",
    "    def sunRoof() = {\n",
    "        if (roof) { \n",
    "            roof = false\n",
    "            println(\"SunRoof has been closed!\")\n",
    "        }else {\n",
    "            roof = true\n",
    "            println(\"SunRoof has been opened!\")\n",
    "        }        \n",
    "    }\n",
    "}\n",
    "val merc: Convertible = new Convertible(250, 5)\n",
    "merc.startEngine()\n",
    "merc.getDoorNumber()\n",
    "merc.sunRoof()\n",
    "merc.sunRoof()\n",
    "merc.race()\n",
    "merc.stopEngine()"
   ]
  },
  {
   "cell_type": "markdown",
   "metadata": {},
   "source": [
    "### 6. File I/O: write the given string to a local txt file and load it back to a variable, followed by display the message in UPPERCASE. "
   ]
  },
  {
   "cell_type": "code",
   "execution_count": 83,
   "metadata": {},
   "outputs": [
    {
     "name": "stdout",
     "output_type": "stream",
     "text": [
      "\n",
      "\n",
      "O-WEEK IS AN IMPORTANT STEP TO STARTING UNIVERSITY AND MAKING NEW FRIENDS, SO MAKE SURE YOU GET INVOLVED! \n",
      "WHETHER YOU ARE AT ST LUCIA, GATTON OR HERSTON, THERE WILL BE SOMETHING ON FOR EVERYONE. THERE ARE A NUMBER \n",
      "OF COMPULSORY AND RECOMMENDED SESSIONS AVAILABLE FOR STUDENTS AT EACH CAMPUS, SO BE SURE TO FIND OUT WHAT'S ON \n",
      "AND SCHEDULE THEM IN BETWEEN SOCIAL EVENTS IN YOUR ORIENTATION PLANNER.\n",
      "\n",
      "AT ST LUCIA, THE WELCOME HUB AND THE INTERNATIONAL ARRIVAL LOUNGE WILL BE THE FOCAL POINT FOR NEW INTERNATIONAL \n",
      "STUDENTS AND DOMESTIC STUDENTS WITH DAILY ENTERTAINMENT, MUSIC, ACTIVITIES AND WORKSHOPS FOR EVERYONE TO ENJOY. \n",
      "THE WELCOME BBQ WILL BE THE FEATURE EVENT OF THE WEEK, WELCOMING ALL NEW STUDENTS TO UQ.\n",
      "\n",
      "WE LOOK FORWARD TO WELCOMING YOU TO #UQLIFE.\n",
      "\n",
      "TO VIEW EVENT SESSIONS: CLICK ON THE TABS BELOW TO VIEW SESSIONS AND EVENTS BEING HELD AT YOUR CAMPUS OR \n",
      "SIMPLY CLICK ‘ALL’ TO VIEW ALL EVENTS FROM ALL CAMPUSES. CLICK INTO EACH EVENT FOR FURTHER INFORMATION ABOUT DATES, \n",
      "TIMES, SESSIONS AND REGISTRATION INFORMATION. \n",
      "\n"
     ]
    },
    {
     "data": {
      "text/plain": [
       "str1 = \n"
      ]
     },
     "metadata": {},
     "output_type": "display_data"
    },
    {
     "data": {
      "text/plain": [
       "lastException: Throwable = null\n",
       "\"\n",
       "O-Week is an important step to starting university and making new friends, so make sure you get involved!\n",
       "Whether you are at St Lucia, Gatton or Herston, there will be something on for everyone. There are a number\n",
       "of compulsory and recommended sessions available for students at each campus, so be sure to find out what's on\n",
       "and schedule them in between social events in your orientation planner.\n",
       "At St lucia, the Welcome Hub and the International Arrival Lounge will be the focal point for new international\n",
       "students and domestic students with daily entertainment, music, activities and workshops for everyone to enjoy.\n",
       "The Welcome BBQ will be the feature event of the week, welcoming all new students to UQ.\n",
       "We look forward to welcoming you to #uqlife.\n",
       "To v...\n"
      ]
     },
     "metadata": {},
     "output_type": "display_data"
    }
   ],
   "source": [
    "/*\n",
    "Write the following content to oweek.txt\n",
    "\n",
    "O-Week is an important step to starting university and making new friends, so make sure you get involved! \n",
    "Whether you are at St Lucia, Gatton or Herston, there will be something on for everyone. There are a number \n",
    "of compulsory and recommended sessions available for students at each campus, so be sure to find out what's on \n",
    "and schedule them in between social events in your orientation planner.\n",
    "\n",
    "At St lucia, the Welcome Hub and the International Arrival Lounge will be the focal point for new international \n",
    "students and domestic students with daily entertainment, music, activities and workshops for everyone to enjoy. \n",
    "The Welcome BBQ will be the feature event of the week, welcoming all new students to UQ.\n",
    "\n",
    "We look forward to welcoming you to #uqlife.\n",
    "\n",
    "To view event sessions: Click on the tabs below to view sessions and events being held at your campus or \n",
    "simply click ‘All’ to view all events from all campuses. Click into each event for further information about dates, \n",
    "times, sessions and registration information. \n",
    "\n",
    "*/\n",
    "\n",
    "import java.io._\n",
    "\n",
    "var str1 =\"\"\"\n",
    "\n",
    "O-Week is an important step to starting university and making new friends, so make sure you get involved! \n",
    "Whether you are at St Lucia, Gatton or Herston, there will be something on for everyone. There are a number \n",
    "of compulsory and recommended sessions available for students at each campus, so be sure to find out what's on \n",
    "and schedule them in between social events in your orientation planner.\n",
    "\n",
    "At St lucia, the Welcome Hub and the International Arrival Lounge will be the focal point for new international \n",
    "students and domestic students with daily entertainment, music, activities and workshops for everyone to enjoy. \n",
    "The Welcome BBQ will be the feature event of the week, welcoming all new students to UQ.\n",
    "\n",
    "We look forward to welcoming you to #uqlife.\n",
    "\n",
    "To view event sessions: Click on the tabs below to view sessions and events being held at your campus or \n",
    "simply click ‘All’ to view all events from all campuses. Click into each event for further information about dates, \n",
    "times, sessions and registration information. \n",
    "\n",
    "\"\"\";\n",
    "\n",
    "val writer = new PrintWriter(new File(\"/home/jovyan/work/nbs/oweek.txt\"));\n",
    "writer.write(str1);\n",
    "writer.close();\n",
    "\n",
    "import scala.io.Source\n",
    "\n",
    "val bufferedSource = Source.fromFile(\"/home/jovyan/work/nbs/oweek.txt\")\n",
    "for(line <- bufferedSource.getLines) {println(line.toUpperCase)}"
   ]
  },
  {
   "cell_type": "markdown",
   "metadata": {},
   "source": [
    "### 7. Define a case class Student and output different messages by matching the objects "
   ]
  },
  {
   "cell_type": "code",
   "execution_count": 93,
   "metadata": {},
   "outputs": [
    {
     "name": "stdout",
     "output_type": "stream",
     "text": [
      "Hi Tom! Age: 21 Gender: M\n",
      "Hi Bob! Age: 22 Gender: M\n",
      "Hi Mary! Age: 20 Gender: F\n",
      "Hi Kath! Age: 19 Gender: F\n"
     ]
    },
    {
     "data": {
      "text/plain": [
       "defined class Student\n",
       "tom = Student(Tom,21,M)\n",
       "bob = Student(Bob,22,M)\n",
       "mary = Student(Mary,20,F)\n",
       "kath = Student(Kath,19,F)\n"
      ]
     },
     "metadata": {},
     "output_type": "display_data"
    },
    {
     "data": {
      "text/plain": [
       "Student(Kath,19,F)"
      ]
     },
     "execution_count": 93,
     "metadata": {},
     "output_type": "execute_result"
    }
   ],
   "source": [
    "/*\n",
    "Requirements:\n",
    "1. Define a case class Student that has name, age, and gender;\n",
    "2. Create Student objects using the following data:\n",
    "    (\"Tom\", 21, 'M'), (\"Bob\", 22, 'M'), (\"Mary\", 20, 'F'), and (\"Kath\",19, 'F');\n",
    "3. write code to output different hello messages with student's name or age information\n",
    "*/\n",
    "// Input your code here:\n",
    "\n",
    "case class Student(name: String, age: Int, gender: Char)\n",
    "val tom = new Student(\"Tom\", 21, 'M')\n",
    "val bob = new Student(\"Bob\", 22, 'M')\n",
    "val mary = new Student(\"Mary\", 20, 'F')\n",
    "val kath = new Student(\"Kath\",19, 'F')\n",
    "\n",
    "for (person <- List(tom, bob, mary, kath)) {\n",
    "   person match {\n",
    "       case Student(\"Tom\", 21, 'M') => println(s\"Hi Tom! Age: ${person.age} Gender: ${person.gender}\")\n",
    "       case Student(\"Bob\", 22, 'M') => println(s\"Hi Bob! Age: ${person.age} Gender: ${person.gender}\")\n",
    "       case Student(\"Mary\", 20, 'F') => println(s\"Hi Mary! Age: ${person.age} Gender: ${person.gender}\")\n",
    "       case Student(\"Kath\", 19, 'F') => println(s\"Hi Kath! Age: ${person.age} Gender: ${person.gender}\")\n",
    "     }\n",
    "}\n"
   ]
  }
 ],
 "metadata": {
  "kernelspec": {
   "display_name": "Spark2.4.3 - Scala",
   "language": "scala",
   "name": "spark2.4.3_scala"
  },
  "language_info": {
   "codemirror_mode": "text/x-scala",
   "file_extension": ".scala",
   "mimetype": "text/x-scala",
   "name": "scala",
   "pygments_lexer": "scala",
   "version": "2.11.12"
  }
 },
 "nbformat": 4,
 "nbformat_minor": 2
}
