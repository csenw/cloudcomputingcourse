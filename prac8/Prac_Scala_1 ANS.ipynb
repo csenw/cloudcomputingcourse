{
 "cells": [
  {
   "cell_type": "markdown",
   "metadata": {},
   "source": [
    "### 1. Output a message: \"Hello, Scala!\" with println()"
   ]
  },
  {
   "cell_type": "code",
   "execution_count": 1,
   "metadata": {},
   "outputs": [
    {
     "name": "stdout",
     "output_type": "stream",
     "text": [
      "Hello, Scala!\n"
     ]
    }
   ],
   "source": [
    "println(\"Hello, Scala!\");"
   ]
  },
  {
   "cell_type": "markdown",
   "metadata": {},
   "source": [
    "### 2. Define five string immutable variables to store \"Welcome\", \"to\", \"cloud\", \"computing\", and \"course\" and output a message with these five variables in the following format: Welcome to cloud computing course!"
   ]
  },
  {
   "cell_type": "code",
   "execution_count": 16,
   "metadata": {},
   "outputs": [
    {
     "name": "stdout",
     "output_type": "stream",
     "text": [
      "Welcome to cloud computing course!\n",
      "Welcome to cloud computing course!\n"
     ]
    },
    {
     "data": {
      "text/plain": [
       "var1 = Welcome\n",
       "var2 = to\n",
       "var3 = cloud\n",
       "var4 = computing\n",
       "var5 = course\n"
      ]
     },
     "metadata": {},
     "output_type": "display_data"
    },
    {
     "data": {
      "text/plain": [
       "course"
      ]
     },
     "execution_count": 16,
     "metadata": {},
     "output_type": "execute_result"
    }
   ],
   "source": [
    "val var1 : String = \"Welcome\";\n",
    "val var2 : String = \"to\";\n",
    "val var3 : String = \"cloud\";\n",
    "val var4 : String = \"computing\";\n",
    "val var5 : String = \"course\";\n",
    "\n",
    "println(var1 + \" \" + var2 + \" \" + var3 + \" \" + var4 + \" \" + var5 + \"!\");\n",
    "//or\n",
    "println(s\"$var1 $var2 $var3 $var4 $var5!\")"
   ]
  },
  {
   "cell_type": "markdown",
   "metadata": {},
   "source": [
    "### 3. Perform a multiple assignment to two immutable variables using Pair: \n",
    "2019 -> var1 and \"The University of Queensland\" -> var2"
   ]
  },
  {
   "cell_type": "code",
   "execution_count": 17,
   "metadata": {},
   "outputs": [
    {
     "data": {
      "text/plain": [
       "var1 = 2019\n",
       "var2 = The University of Queensland\n"
      ]
     },
     "metadata": {},
     "output_type": "display_data"
    },
    {
     "data": {
      "text/plain": [
       "warning: there was one deprecation warning; re-run with -deprecation for details\n"
      ]
     },
     "metadata": {},
     "output_type": "display_data"
    },
    {
     "data": {
      "text/plain": [
       "The University of Queensland"
      ]
     },
     "execution_count": 17,
     "metadata": {},
     "output_type": "execute_result"
    }
   ],
   "source": [
    "val(var1: Int, var2: String) = Pair(2019, \"The University of Queensland\");"
   ]
  },
  {
   "cell_type": "markdown",
   "metadata": {},
   "source": [
    "### 4. Define a 3D point class with public member variables: x, y, and z. This class should have a public method to move the point to the new location. The following test code should work properly:\n",
    "val pt:Point = new Point(10,20,30) <br>\n",
    "pt.move(5,5,5)"
   ]
  },
  {
   "cell_type": "code",
   "execution_count": 23,
   "metadata": {},
   "outputs": [
    {
     "name": "stdout",
     "output_type": "stream",
     "text": [
      "Point x location : 15\n",
      "Point y location : 25\n",
      "Point z location : 35\n"
     ]
    },
    {
     "data": {
      "text/plain": [
       "defined class Point\n",
       "pt = Point@80c08a8\n"
      ]
     },
     "metadata": {},
     "output_type": "display_data"
    },
    {
     "data": {
      "text/plain": [
       "Point@80c08a8"
      ]
     },
     "execution_count": 23,
     "metadata": {},
     "output_type": "execute_result"
    }
   ],
   "source": [
    "class Point(val xc: Int, val yc: Int, val zc: Int) {\n",
    "   var x: Int = xc;\n",
    "   var y: Int = yc;\n",
    "   var z: Int = zc;   \n",
    "   \n",
    "// dx and dy are 0 by default\n",
    "   def move(dx: Int, dy: Int, dz: Int) {\n",
    "      x = x + dx;\n",
    "      y = y + dy;\n",
    "      z = z + dz; \n",
    "      println (\"Point x location : \" + x);\n",
    "      println (\"Point y location : \" + y);\n",
    "      println (\"Point z location : \" + z);\n",
    "   }   \n",
    "    \n",
    "}\n",
    "\n",
    "val pt:Point = new Point(10,20,30)\n",
    "pt.move(5,5,5)"
   ]
  },
  {
   "cell_type": "markdown",
   "metadata": {},
   "source": [
    "### 5. Write a function to calculate the factorial value of 10"
   ]
  },
  {
   "cell_type": "code",
   "execution_count": 25,
   "metadata": {},
   "outputs": [
    {
     "data": {
      "text/plain": [
       "factorial: (a: Int)Int\n"
      ]
     },
     "metadata": {},
     "output_type": "display_data"
    },
    {
     "name": "stdout",
     "output_type": "stream",
     "text": [
      "3628800\n"
     ]
    }
   ],
   "source": [
    "def factorial(a:Int):Int={\n",
    "    if (a==1) return 1;\n",
    "    else return a*factorial(a-1)\n",
    "}\n",
    "println(factorial(10))"
   ]
  },
  {
   "cell_type": "markdown",
   "metadata": {},
   "source": [
    "### 6. Write a function to identify if a given year is a leap year\n",
    "The algorithm to recognise the year is: <br>\n",
    "if (year is not divisible by 4) then (it is a common year) <br>\n",
    "else if (year is not divisible by 100) then (it is a leap year) <br>\n",
    "else if (year is not divisible by 400) then (it is a common year) <br>\n",
    "else (it is a leap year) <br>\n",
    "<br>\n",
    "Test the results of the follow code:<br>\n",
    "println(isLeapYear(1600))<br>\n",
    "println(isLeapYear(1900))<br>\n",
    "println(isLeapYear(2000))<br>\n",
    "println(isLeapYear(2019))"
   ]
  },
  {
   "cell_type": "code",
   "execution_count": 37,
   "metadata": {},
   "outputs": [
    {
     "data": {
      "text/plain": [
       "isLeapYear: (year: Int)Boolean\n"
      ]
     },
     "metadata": {},
     "output_type": "display_data"
    },
    {
     "name": "stdout",
     "output_type": "stream",
     "text": [
      "true\n",
      "false\n",
      "true\n",
      "false\n"
     ]
    }
   ],
   "source": [
    "def isLeapYear(year : Int):Boolean={\n",
    "    if(!(year%4 == 0)) {return false}\n",
    "    else if (!(year%100 == 0)) {return true}\n",
    "    else if (!(year%400 == 0)) {return false}\n",
    "    else {return true}\n",
    "}\n",
    "println(isLeapYear(1600))\n",
    "println(isLeapYear(1900))\n",
    "println(isLeapYear(2000))\n",
    "println(isLeapYear(2019))"
   ]
  },
  {
   "cell_type": "markdown",
   "metadata": {},
   "source": [
    "### 7. Write a function to identify if a given number is a prime number.\n",
    "Test code: <br>\n",
    "isPrime(100) <br>\n",
    "isPrime(97) <br>"
   ]
  },
  {
   "cell_type": "code",
   "execution_count": 58,
   "metadata": {},
   "outputs": [
    {
     "name": "stdout",
     "output_type": "stream",
     "text": [
      "100 is not a prime\n",
      "97 is a prime\n"
     ]
    },
    {
     "data": {
      "text/plain": [
       "isPrime: (value: Int)Boolean\n"
      ]
     },
     "metadata": {},
     "output_type": "display_data"
    },
    {
     "data": {
      "text/plain": [
       "true"
      ]
     },
     "execution_count": 58,
     "metadata": {},
     "output_type": "execute_result"
    }
   ],
   "source": [
    "def isPrime(value : Int):Boolean={\n",
    "    var i : Int = 1;\n",
    "    var flag = 0;\n",
    "    while(i<(value/2)){\n",
    "        i+=1;\n",
    "        if((value%i)==0){\n",
    "            flag = 1;\n",
    "        }\n",
    "    }\n",
    "    if(flag==0){\n",
    "        println(value + \" is a prime\");\n",
    "        return true;\n",
    "    }else{\n",
    "        println(value + \" is not a prime\");\n",
    "        return false;\n",
    "    }\n",
    "}\n",
    "isPrime(100)\n",
    "isPrime(97)"
   ]
  },
  {
   "cell_type": "markdown",
   "metadata": {},
   "source": [
    "### 8. Declare two immutable String variables and concatenate them into a new immutable variable. All the letters of the new String variable should be in lower case.\n",
    "str1: \"Cloud\" <br>\n",
    "str2: \"Computing\" <br>\n",
    "str3: \"cloudcomputing\" <br>"
   ]
  },
  {
   "cell_type": "code",
   "execution_count": 63,
   "metadata": {},
   "outputs": [
    {
     "name": "stdout",
     "output_type": "stream",
     "text": [
      "cloudcomputing\n"
     ]
    },
    {
     "data": {
      "text/plain": [
       "str1 = Cloud\n",
       "str2 = Computing\n",
       "str3 = cloudcomputing\n"
      ]
     },
     "metadata": {},
     "output_type": "display_data"
    },
    {
     "data": {
      "text/plain": [
       "cloudcomputing"
      ]
     },
     "execution_count": 63,
     "metadata": {},
     "output_type": "execute_result"
    }
   ],
   "source": [
    "val str1 : String = \"Cloud\";\n",
    "val str2 : String = \"Computing\";\n",
    "val str3 = str1.toLowerCase + str2.toLowerCase;\n",
    "println(str3);"
   ]
  },
  {
   "cell_type": "markdown",
   "metadata": {},
   "source": [
    "### 9. Iterate a given list: (6, 8, 10, 12, 14, 16, 19, 20, 21, 25) and break the iteration when encounter a prime number."
   ]
  },
  {
   "cell_type": "code",
   "execution_count": 60,
   "metadata": {},
   "outputs": [
    {
     "name": "stdout",
     "output_type": "stream",
     "text": [
      "6 is not a prime\n",
      "8 is not a prime\n",
      "10 is not a prime\n",
      "12 is not a prime\n",
      "14 is not a prime\n",
      "16 is not a prime\n",
      "19 is a prime\n"
     ]
    },
    {
     "data": {
      "text/plain": [
       "myList = List(6, 8, 10, 12, 14, 16, 19, 20, 21, 25)\n",
       "loop = scala.util.control.Breaks@72f7f5e1\n"
      ]
     },
     "metadata": {},
     "output_type": "display_data"
    },
    {
     "data": {
      "text/plain": [
       "scala.util.control.Breaks@72f7f5e1"
      ]
     },
     "execution_count": 60,
     "metadata": {},
     "output_type": "execute_result"
    }
   ],
   "source": [
    "import scala.util.control._\n",
    "val myList = List(6, 8, 10, 12, 14, 16, 19, 20, 21, 25)\n",
    "val loop = new Breaks;\n",
    "loop.breakable {\n",
    "    for(a <- myList){          \n",
    "        if (isPrime(a)) {loop.break}\n",
    "    }    \n",
    "}"
   ]
  }
 ],
 "metadata": {
  "kernelspec": {
   "display_name": "Spark2.4.3 - Scala",
   "language": "scala",
   "name": "spark2.4.3_scala"
  },
  "language_info": {
   "codemirror_mode": "text/x-scala",
   "file_extension": ".scala",
   "mimetype": "text/x-scala",
   "name": "scala",
   "pygments_lexer": "scala",
   "version": "2.11.12"
  }
 },
 "nbformat": 4,
 "nbformat_minor": 2
}
