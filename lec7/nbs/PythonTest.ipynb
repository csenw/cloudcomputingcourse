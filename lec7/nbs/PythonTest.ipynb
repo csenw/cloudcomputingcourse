{
 "cells": [
  {
   "cell_type": "code",
   "execution_count": 1,
   "metadata": {},
   "outputs": [
    {
     "name": "stdout",
     "output_type": "stream",
     "text": [
      "Lines with he: 55232, lines with she: 2347\n"
     ]
    }
   ],
   "source": [
    "from pyspark import SparkContext\n",
    "file = \"shakespeare.txt\"  \n",
    "\n",
    "sc = SparkContext(\"local\", \"first app\")\n",
    "data = sc.textFile(file).cache()\n",
    "numAs = data.filter(lambda s: 'he' in s).count()\n",
    "numBs = data.filter(lambda s: 'she' in s).count()\n",
    "print (\"Lines with he: %i, lines with she: %i\" %(numAs, numBs))\n",
    "sc.stop()"
   ]
  },
  {
   "cell_type": "code",
   "execution_count": 2,
   "metadata": {},
   "outputs": [
    {
     "name": "stdout",
     "output_type": "stream",
     "text": [
      "Lines with he: 0, lines with she: 0\n"
     ]
    }
   ],
   "source": [
    "from pyspark import SparkContext\n",
    "file = \"file:///home/jovyan/work/nbs/shakespeare.txt\"  \n",
    "\n",
    "master = \"spark://spark-master:7077\"\n",
    "sc = SparkContext(master, \"sec app\")\n",
    "\n",
    "f=open(\"shakespeare.txt\").read()\n",
    "data = sc.parallelize(f).cache()\n",
    "#data = sc.textFile(\"file:///tmp/data/s.txt\").cache()\n",
    "numAs = data.filter(lambda s: 'he' in s).count()\n",
    "numBs = data.filter(lambda s: 'she' in s).count()\n",
    "print (\"Lines with he: %i, lines with she: %i\" %(numAs, numBs))\n",
    "sc.stop()"
   ]
  },
  {
   "cell_type": "code",
   "execution_count": null,
   "metadata": {},
   "outputs": [],
   "source": [
    "sc.stop()"
   ]
  },
  {
   "cell_type": "code",
   "execution_count": null,
   "metadata": {},
   "outputs": [],
   "source": []
  }
 ],
 "metadata": {
  "kernelspec": {
   "display_name": "Python 3",
   "language": "python",
   "name": "python3"
  },
  "language_info": {
   "codemirror_mode": {
    "name": "ipython",
    "version": 3
   },
   "file_extension": ".py",
   "mimetype": "text/x-python",
   "name": "python",
   "nbconvert_exporter": "python",
   "pygments_lexer": "ipython3",
   "version": "3.8.5"
  }
 },
 "nbformat": 4,
 "nbformat_minor": 4
}
