{
 "cells": [
  {
   "cell_type": "markdown",
   "metadata": {},
   "source": [
    "# RDD Programming"
   ]
  },
  {
   "cell_type": "markdown",
   "metadata": {},
   "source": [
    "## 1. RDD Creation\n",
    "There are two different ways to create RDDs. Please use the given document and collections to create RDDs"
   ]
  },
  {
   "cell_type": "code",
   "execution_count": null,
   "metadata": {},
   "outputs": [],
   "source": [
    "/* \n",
    "    Given text document is save at /root/infs3208/code/uq.txt, please use textFile method to create an RDD \n",
    "*/\n",
    "//Input your code here:\n",
    "\n",
    "println(\"-------------\")"
   ]
  },
  {
   "cell_type": "code",
   "execution_count": null,
   "metadata": {
    "scrolled": true
   },
   "outputs": [],
   "source": [
    "/*\n",
    "    Given two collections below:\n",
    "    I. 1, 2, 3, 4, 5\n",
    "    II. \"MapReduce is good\",\"Spark is fast\",\"Spark is better than MapReduce\"\n",
    "    please use parallelize method to create two RDDs\n",
    "*/\n",
    "//Input your code here: \n",
    "\n",
    "println(\"-------------\")"
   ]
  },
  {
   "cell_type": "markdown",
   "metadata": {},
   "source": [
    "## 2. RDD Transfermations and Actions:\n",
    "In Spark, Transformations are operations that transform an existing RDD to a new RDD.  "
   ]
  },
  {
   "cell_type": "code",
   "execution_count": null,
   "metadata": {},
   "outputs": [],
   "source": [
    "//Transfermation\n",
    "//Split the uq.txt document into individual words, and get the word count of the document.\n",
    "//Input your code here:\n",
    "\n",
    "println(\"-------------\")"
   ]
  },
  {
   "cell_type": "code",
   "execution_count": null,
   "metadata": {},
   "outputs": [],
   "source": [
    "//Firstly, add each element in a collection by 10; secondly, display the elements that are greater than 12.\n",
    "\n",
    "\n",
    "/*\n",
    "Code below is to generate a ramdom integer collection \n",
    "*/\n",
    "import util.Random.nextInt\n",
    "val collection = Seq.fill(20)(util.Random.nextInt)\n",
    "//Input your code here:\n",
    "\n",
    "println(\"-------------\")"
   ]
  },
  {
   "cell_type": "code",
   "execution_count": null,
   "metadata": {},
   "outputs": [],
   "source": [
    "/*\n",
    "    Given two different sets:\n",
    "    s1 = (\"infs3202\", \"infs7208\", \"infs3208\", \"infs7202\", \"infs3208\")\n",
    "    s2 = (\"infs3208\", \"infs3208\", \"infs3204\", \"infs7204\", \"infs7208\")\n",
    "*/\n",
    "\n",
    "// Create two RDDs using parallelize method\n",
    "\n",
    "// Display all distinct elements in the first RDD.\n",
    "// Input your code here:\n",
    "\n",
    "\n",
    "// Display all distinct elements in all the RDDs.\n",
    "// In put your code here:\n",
    "println(\"-------------\")\n",
    "\n",
    "\n",
    "// Display all common elements between two RDDs.\n",
    "// In put your code here:\n",
    "println(\"-------------\")\n",
    "\n",
    "\n",
    "// Subtract the first RDD with the second RDD and display the result.\n",
    "// In put your code here:\n",
    "println(\"-------------\")\n",
    "\n",
    "\n",
    "\n",
    "// Display all the cartesian products between the first RDD and the second RDD:\n",
    "// In put your code here:\n",
    "println(\"-------------\")\n",
    "\n"
   ]
  },
  {
   "cell_type": "code",
   "execution_count": null,
   "metadata": {},
   "outputs": [],
   "source": [
    "// Action operations\n",
    "/*\n",
    "Given below code to generate a ramdom collection: \n",
    "import util.Random.nextInt\n",
    "val collection = Seq.fill(20)(util.Random.nextInt)\n",
    "*/\n",
    "import util.Random.nextInt\n",
    "val collection = Seq.fill(20)(util.Random.nextInt)\n",
    "\n",
    "\n",
    "// Get the factorial result of the RDD\n",
    "// Input your code here:\n",
    "\n",
    "\n",
    "// Produce the sum of the RDD \n",
    "// Input your code here:\n",
    "println(\"-------------\")\n",
    "\n",
    "\n",
    "// Count the elements in the RDD\n",
    "// Input your code here:\n",
    "println(\"-------------\")\n",
    "\n",
    "\n",
    "// Ramdomly select 4 elements out of the RDD, and print them out.\n",
    "// Input your code here:\n",
    "println(\"-------------\")\n",
    "\n",
    "\n",
    "// Display the two largest elements in the RDD\n",
    "// Input your code here:\n",
    "println(\"-------------\")\n",
    "\n",
    "\n",
    "// Check the frequency of each element in the RDD\n",
    "// Input your code here:\n",
    "println(\"-------------\")\n",
    "\n"
   ]
  },
  {
   "cell_type": "code",
   "execution_count": null,
   "metadata": {},
   "outputs": [],
   "source": [
    "// Partition & repartition\n",
    "\n",
    "/*\n",
    "Code below is to generate a ramdom collection: \n",
    "import util.Random.nextInt\n",
    "val collection = Seq.fill(20)(util.Random.nextInt)\n",
    "*/\n",
    "import util.Random.nextInt\n",
    "val collection = Seq.fill(20)(util.Random.nextInt)\n",
    "\n",
    "//Create an RDD with one partition\n",
    "//Input your code here:"
   ]
  },
  {
   "cell_type": "markdown",
   "metadata": {},
   "source": [
    "## 3. Key/Value Pair Creation and Transformations"
   ]
  },
  {
   "cell_type": "code",
   "execution_count": null,
   "metadata": {},
   "outputs": [],
   "source": [
    "/*\n",
    "Given a List of String:\n",
    "    \"MapReduce is good\",\"Spark is fast\",\"Spark is better than MapReduce\"\n",
    " \n",
    " create an RDD and count the word frequency using transformation operations, followed by displaying the results using \n",
    " action operations. \n",
    " */\n",
    "//Input your code here:\n",
    "\n",
    "\n",
    "\n",
    "/* \n",
    "    Given a text document that is save at /root/infs3208/code/uq.txt, convert all words into lower case and\n",
    "    count the word frquency, followed by displaying the sorted results (descending order of frequency) using action operations.    \n",
    "*/ \n",
    "\n",
    "//Input your coder here:\n",
    "\n",
    "\n",
    "\n",
    "/*\n",
    " Given scores of two studends below:\n",
    "    \"s123456\",78\n",
    "    \"s123456\",80\n",
    "    \"s123456\",65\n",
    "    \"s123456\",90\n",
    "    \"s654321\",80\n",
    "    \"s654321\",40\n",
    "    \"s654321\",50\n",
    "    \"s654321\",90 \n",
    "    \"s654321\" 80 \n",
    " \n",
    " store the data into an RDD and calculate the average scores for each student.\n",
    " */\n",
    "//Input your code here:\n"
   ]
  }
 ],
 "metadata": {
  "kernelspec": {
   "display_name": "spylon-kernel",
   "language": "scala",
   "name": "spylon-kernel"
  },
  "language_info": {
   "codemirror_mode": "text/x-scala",
   "file_extension": ".scala",
   "help_links": [
    {
     "text": "MetaKernel Magics",
     "url": "https://metakernel.readthedocs.io/en/latest/source/README.html"
    }
   ],
   "mimetype": "text/x-scala",
   "name": "scala",
   "pygments_lexer": "scala",
   "version": "0.4.1"
  }
 },
 "nbformat": 4,
 "nbformat_minor": 2
}
