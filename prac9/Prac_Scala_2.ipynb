{
 "cells": [
  {
   "cell_type": "markdown",
   "metadata": {},
   "source": [
    "### 1. Given an array of 10 double numbers, calculate and display the max/min/average/sum values of the array."
   ]
  },
  {
   "cell_type": "code",
   "execution_count": null,
   "metadata": {},
   "outputs": [],
   "source": [
    "// Given 10 random Double numbers stored in myArrayDouble\n",
    "val r = scala.util.Random\n",
    "var myArrayDouble:Array[Double] = new Array(10)\n",
    "for (i <- 0 to myArrayDouble.size-1) {\n",
    "    myArrayDouble(i) = (100 * r.nextDouble)\n",
    "    printf(\"%.2f, \",myArrayDouble(i))\n",
    "}\n",
    "println()\n",
    "\n",
    "// Input your code here:\n",
    "\n"
   ]
  },
  {
   "cell_type": "markdown",
   "metadata": {},
   "source": [
    "### 2. Write a function that can calculate the multiplication of the two matrices in the format of Scala's Array."
   ]
  },
  {
   "cell_type": "code",
   "execution_count": null,
   "metadata": {},
   "outputs": [],
   "source": [
    "/* \n",
    "Given matrix 1 is ((1,2),(3,4)) and matrix 2 is ((-3, -8, 3), (-2, 1, 4)), the mult(mat1, mat2) \n",
    "should return the correct result: ((-7, -6, 11), (-17, -20, 25))\n",
    "*/\n",
    "val mat1 = Array(Array(1, 2), Array(3, 4))\n",
    "val mat2 = Array(Array(-3, -8, 3), Array(-2, 1, 4))\n",
    "\n",
    "// Input your code here:\n"
   ]
  },
  {
   "cell_type": "markdown",
   "metadata": {},
   "source": [
    "### 3. Generate two arrays containing a sequence in a range of [1,15] and [2000, 2019] with step of 2 and step of 3, respectively, then concatenate them toghter before displaying the concatenated list."
   ]
  },
  {
   "cell_type": "code",
   "execution_count": null,
   "metadata": {},
   "outputs": [],
   "source": [
    "// Input your code here:\n"
   ]
  },
  {
   "cell_type": "markdown",
   "metadata": {},
   "source": [
    "### 4. Given an array of integers (1,7,12,87,3,78,12,0,3,101), sort the array and display the result in both ascending and desceding orders."
   ]
  },
  {
   "cell_type": "code",
   "execution_count": null,
   "metadata": {},
   "outputs": [],
   "source": [
    "// Input your code here:\n",
    "\n"
   ]
  },
  {
   "cell_type": "markdown",
   "metadata": {},
   "source": [
    "### 5. Create a base class Vehicle with one member variable (speed) and one member function (race). Create a class Convertible by inheriting this base case. "
   ]
  },
  {
   "cell_type": "code",
   "execution_count": null,
   "metadata": {},
   "outputs": [],
   "source": [
    "/*\n",
    "Requirements:\n",
    "1. The member function of the base class Vehicle can display \"Racing as a prototype Vehicle at N km/h.\" ;\n",
    "2. Some common functions, like lightOn and lightOff, should be treated as functions in a singleton object Car;\n",
    "3. Inherited class Convertible should have more specific member variables, such as door/seat number.\n",
    "4. Inherited class Convertible should have an exclusive function: sunRoof()\n",
    "5. The sunRoof() should be able to open/close the sunroof according to the situation.\n",
    "6. The member function of class Convertible (race()) should behave differently\n",
    "7. The methods in the singleton object should be called when the engine is started or stopped.\n",
    "*/\n",
    "// Input your code here:\n",
    "\n"
   ]
  },
  {
   "cell_type": "markdown",
   "metadata": {},
   "source": [
    "### 6. File I/O: write the given string to a local txt file and load it back to a variable, followed by display the message in UPPERCASE. "
   ]
  },
  {
   "cell_type": "code",
   "execution_count": null,
   "metadata": {},
   "outputs": [],
   "source": [
    "import java.io._\n",
    "\n",
    "var str1 =\"\"\"\n",
    "\n",
    "O-Week is an important step to starting university and making new friends, so make sure you get involved! \n",
    "Whether you are at St Lucia, Gatton or Herston, there will be something on for everyone. There are a number \n",
    "of compulsory and recommended sessions available for students at each campus, so be sure to find out what's on \n",
    "and schedule them in between social events in your orientation planner.\n",
    "\n",
    "At St lucia, the Welcome Hub and the International Arrival Lounge will be the focal point for new international \n",
    "students and domestic students with daily entertainment, music, activities and workshops for everyone to enjoy. \n",
    "The Welcome BBQ will be the feature event of the week, welcoming all new students to UQ.\n",
    "\n",
    "We look forward to welcoming you to #uqlife.\n",
    "\n",
    "To view event sessions: Click on the tabs below to view sessions and events being held at your campus or \n",
    "simply click ‘All’ to view all events from all campuses. Click into each event for further information about dates, \n",
    "times, sessions and registration information. \n",
    "\n",
    "\"\"\";\n",
    "// Input your code here:\n"
   ]
  },
  {
   "cell_type": "markdown",
   "metadata": {},
   "source": [
    "### 7. Define a case class Student and output different messages by matching the objects "
   ]
  },
  {
   "cell_type": "code",
   "execution_count": null,
   "metadata": {},
   "outputs": [],
   "source": [
    "/*\n",
    "Requirements:\n",
    "1. Define a case class Student that has name, age, and gender;\n",
    "2. Create Student objects using the following data:\n",
    "    (\"Tom\", 21, 'M'), (\"Bob\", 22, 'M'), (\"Mary\", 20, 'F'), and (\"Kath\",19, 'F');\n",
    "3. write code to output different hello messages with student's name or age information\n",
    "*/\n",
    "// Input your code here:\n"
   ]
  }
 ],
 "metadata": {
  "kernelspec": {
   "display_name": "Spark2.4.3 - Scala",
   "language": "scala",
   "name": "spark2.4.3_scala"
  },
  "language_info": {
   "codemirror_mode": "text/x-scala",
   "file_extension": ".scala",
   "mimetype": "text/x-scala",
   "name": "scala",
   "pygments_lexer": "scala",
   "version": "2.11.12"
  }
 },
 "nbformat": 4,
 "nbformat_minor": 2
}
